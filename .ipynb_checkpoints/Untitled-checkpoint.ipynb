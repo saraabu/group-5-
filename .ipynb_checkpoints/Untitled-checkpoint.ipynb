{
 "cells": [
  {
   "cell_type": "markdown",
   "id": "9cb2f1cb-0e58-4579-8ca1-f82cf9f6db2c",
   "metadata": {},
   "source": [
    "## This is the teamwork section of our project stage 1\n",
    "Tasks to do\n",
    "\n",
    "(Project Stage I)\n",
    "\n",
    "Understanding the COVID-19 Dataset: \n",
    "Look at the COVID-19 data and make a list of the key variables (like number of cases, deaths, and population).\n",
    "\n",
    "Create a data dictionary for each of these variables.\n",
    "\n",
    "Merge COVID-19 Data:  In Jupyter Notebook, load the COVID-19 data (cases, deaths, population).\n",
    "and Combine all this data into one big dataset.\n",
    "\n",
    "Save the combined dataset as a CSV file.\n",
    "\n",
    "make sure to have reports on each task/step etc\n",
    "\n",
    "turn it in"
   ]
  },
  {
   "cell_type": "markdown",
   "id": "79bc502d-0f32-4d18-a5c9-d094f96c0a97",
   "metadata": {},
   "source": [
    "## TASK ONE\n"
   ]
  },
  {
   "cell_type": "markdown",
   "id": "63bdb3b5-5976-48eb-bc65-fdc1da7d6e59",
   "metadata": {},
   "source": [
    "# step one\n",
    "Load the COVID-19 Data from the Teamwork Project Stage 1 Folder"
   ]
  },
  {
   "cell_type": "code",
   "execution_count": 9,
   "id": "18098ba3-b9f2-428d-a2b0-a172fec267d1",
   "metadata": {},
   "outputs": [
    {
     "name": "stdout",
     "output_type": "stream",
     "text": [
      "Confirmed Cases Data:\n",
      "   countyFIPS            County Name State  StateFIPS  2020-01-22  2020-01-23  \\\n",
      "0           0  Statewide Unallocated    AL          1           0           0   \n",
      "1        1001        Autauga County     AL          1           0           0   \n",
      "2        1003        Baldwin County     AL          1           0           0   \n",
      "3        1005        Barbour County     AL          1           0           0   \n",
      "4        1007           Bibb County     AL          1           0           0   \n",
      "\n",
      "   2020-01-24  2020-01-25  2020-01-26  2020-01-27  ...  2023-07-14  \\\n",
      "0           0           0           0           0  ...           0   \n",
      "1           0           0           0           0  ...       19913   \n",
      "2           0           0           0           0  ...       70521   \n",
      "3           0           0           0           0  ...        7582   \n",
      "4           0           0           0           0  ...        8149   \n",
      "\n",
      "   2023-07-15  2023-07-16  2023-07-17  2023-07-18  2023-07-19  2023-07-20  \\\n",
      "0           0           0           0           0           0           0   \n",
      "1       19913       19913       19913       19913       19913       19913   \n",
      "2       70521       70521       70521       70521       70521       70521   \n",
      "3        7582        7582        7582        7582        7582        7582   \n",
      "4        8149        8149        8149        8149        8149        8149   \n",
      "\n",
      "   2023-07-21  2023-07-22  2023-07-23  \n",
      "0           0           0           0  \n",
      "1       19913       19913       19913  \n",
      "2       70521       70521       70521  \n",
      "3        7582        7582        7582  \n",
      "4        8149        8149        8149  \n",
      "\n",
      "[5 rows x 1269 columns]\n",
      "\n",
      "Deaths Data:\n",
      "   countyFIPS            County Name State  StateFIPS  2020-01-22  2020-01-23  \\\n",
      "0           0  Statewide Unallocated    AL          1           0           0   \n",
      "1        1001        Autauga County     AL          1           0           0   \n",
      "2        1003        Baldwin County     AL          1           0           0   \n",
      "3        1005        Barbour County     AL          1           0           0   \n",
      "4        1007           Bibb County     AL          1           0           0   \n",
      "\n",
      "   2020-01-24  2020-01-25  2020-01-26  2020-01-27  ...  2023-07-14  \\\n",
      "0           0           0           0           0  ...           0   \n",
      "1           0           0           0           0  ...         235   \n",
      "2           0           0           0           0  ...         731   \n",
      "3           0           0           0           0  ...         104   \n",
      "4           0           0           0           0  ...         111   \n",
      "\n",
      "   2023-07-15  2023-07-16  2023-07-17  2023-07-18  2023-07-19  2023-07-20  \\\n",
      "0           0           0           0           0           0           0   \n",
      "1         235         235         235         235         235         235   \n",
      "2         731         731         731         731         731         731   \n",
      "3         104         104         104         104         104         104   \n",
      "4         111         111         111         111         111         111   \n",
      "\n",
      "   2023-07-21  2023-07-22  2023-07-23  \n",
      "0           0           0           0  \n",
      "1         235         235         235  \n",
      "2         731         731         731  \n",
      "3         104         104         104  \n",
      "4         111         111         111  \n",
      "\n",
      "[5 rows x 1269 columns]\n",
      "\n",
      "Population Data:\n",
      "   countyFIPS            County Name State  population\n",
      "0           0  Statewide Unallocated    AL           0\n",
      "1        1001         Autauga County    AL       55869\n",
      "2        1003         Baldwin County    AL      223234\n",
      "3        1005         Barbour County    AL       24686\n",
      "4        1007            Bibb County    AL       22394\n"
     ]
    }
   ],
   "source": [
    "import pandas as pd\n",
    "import os\n",
    "\n",
    "# path to the teamwork project stage 1 folder on saras desktop?\n",
    "desktop_path = os.path.join(os.path.expanduser(\"~\"), \"Desktop\")\n",
    "teamwork_project_folder = os.path.join(desktop_path, \"teamwork project stage 1\", \"covid 19 data\")\n",
    "\n",
    "# loading confirmed cases, deaths, and population data\n",
    "confirmed_cases_path = os.path.join(teamwork_project_folder, 'covid_confirmed_usafacts.csv')\n",
    "deaths_data_path = os.path.join(teamwork_project_folder, 'covid_deaths_usafacts.csv')\n",
    "population_data_path = os.path.join(teamwork_project_folder, 'covid_county_population_usafacts.csv')\n",
    "\n",
    "# reading the data into pandas \n",
    "confirmed_data = pd.read_csv(confirmed_cases_path)\n",
    "deaths_data = pd.read_csv(deaths_data_path)\n",
    "population_data = pd.read_csv(population_data_path)\n",
    "\n",
    "# printing the first few rows of each dataset to understand and get comfortable with it\n",
    "print(\"Confirmed Cases Data:\")\n",
    "print(confirmed_data.head())\n",
    "\n",
    "print(\"\\nDeaths Data:\")\n",
    "print(deaths_data.head())\n",
    "\n",
    "print(\"\\nPopulation Data:\")\n",
    "print(population_data.head())\n"
   ]
  },
  {
   "cell_type": "markdown",
   "id": "989b2b9e-9b9c-48f7-83f2-2d47d73be1f8",
   "metadata": {},
   "source": [
    "# step 2"
   ]
  },
  {
   "cell_type": "markdown",
   "id": "49a2163d-4a3f-4bdd-bbd3-966eca904835",
   "metadata": {},
   "source": [
    "Create a Data Dictionary for key variables\n"
   ]
  },
  {
   "cell_type": "code",
   "execution_count": 38,
   "id": "3e669cff-2521-416b-af05-a89ab5966e1c",
   "metadata": {},
   "outputs": [
    {
     "name": "stdout",
     "output_type": "stream",
     "text": [
      "Variable: countyFIPS\n",
      "  Data Type: int64\n",
      "  Description: A unique identifier for each county.\n",
      "\n",
      "Variable: County Name\n",
      "  Data Type: object (string)\n",
      "  Description: The name of the county.\n",
      "\n",
      "Variable: State\n",
      "  Data Type: object (string)\n",
      "  Description: The state where the county is located.\n",
      "\n",
      "Variable: Population\n",
      "  Data Type: int64\n",
      "  Description: The total population of the county (in the population dataset).\n",
      "\n",
      "Variable: Date Columns\n",
      "  Data Type: int64 (for confirmed cases and deaths)\n",
      "  Description: Daily data for confirmed cases or deaths starting from the earliest date in the dataset.\n",
      "\n"
     ]
    }
   ],
   "source": [
    "# data dictionary for confirmed cases, deaths, and population datasets\n",
    "data_dictionary = {\n",
    "    \"countyFIPS\": {\n",
    "        \"Data Type\": \"int64\",\n",
    "        \"Description\": \"A unique identifier for each county.\"\n",
    "    },\n",
    "    \"County Name\": {\n",
    "        \"Data Type\": \"object (string)\",\n",
    "        \"Description\": \"The name of the county.\"\n",
    "    },\n",
    "    \"State\": {\n",
    "        \"Data Type\": \"object (string)\",\n",
    "        \"Description\": \"The state where the county is located.\"\n",
    "    },\n",
    "    \"Population\": {\n",
    "        \"Data Type\": \"int64\",\n",
    "        \"Description\": \"The total population of the county (in the population dataset).\"\n",
    "    },\n",
    "    \"Date Columns\": {\n",
    "        \"Data Type\": \"int64 (for confirmed cases and deaths)\",\n",
    "        \"Description\": \"Daily data for the confirmed cases or deaths starting from the earliest date in the dataset.\"\n",
    "    }\n",
    "}\n",
    "\n",
    "# displaying the data dictionary\n",
    "for key, value in data_dictionary.items():\n",
    "    print(f\"Variable: {key}\")\n",
    "    print(f\"  Data Type: {value['Data Type']}\")\n",
    "    print(f\"  Description: {value['Description']}\\n\")\n"
   ]
  },
  {
   "attachments": {},
   "cell_type": "markdown",
   "id": "ea324b6a-9822-4b8b-9259-3511c4866b52",
   "metadata": {},
   "source": [
    "## (Task 1: Step 1 & 2) summary\n",
    "\n",
    "Confirmed cases, deaths, and population datasets from the teamwork project folder.\n",
    "inspected key columns like county FIPS codes, county names, states, populations, and daily COVID-19 records (cases, deaths).\n",
    "\n",
    "The Data Dictionary that was created has\n",
    "countyFIPS: Unique county identifier\n",
    "County Name, State, StateFIPS, Population: Location and population details\n",
    "Date Columns: Daily cases and deaths\n",
    "\n",
    " dataset overview:\n",
    "\n",
    "Confirmed Cases & Deaths: Daily records by county\n",
    "Population Data: Total population for each county \n",
    "\n",
    "Next Step: Merge datasets and create csv file"
   ]
  },
  {
   "cell_type": "code",
   "execution_count": null,
   "id": "08bcb5b0-a494-4ebf-857b-7f81f8ca353b",
   "metadata": {},
   "outputs": [],
   "source": []
  }
 ],
 "metadata": {
  "kernelspec": {
   "display_name": "Python 3 (ipykernel)",
   "language": "python",
   "name": "python3"
  },
  "language_info": {
   "codemirror_mode": {
    "name": "ipython",
    "version": 3
   },
   "file_extension": ".py",
   "mimetype": "text/x-python",
   "name": "python",
   "nbconvert_exporter": "python",
   "pygments_lexer": "ipython3",
   "version": "3.11.5"
  }
 },
 "nbformat": 4,
 "nbformat_minor": 5
}
