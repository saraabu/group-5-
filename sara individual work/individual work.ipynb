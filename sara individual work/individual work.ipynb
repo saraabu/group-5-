{
 "cells": [
  {
   "cell_type": "markdown",
   "id": "e4211447-8c75-4aeb-b797-df4797a216f3",
   "metadata": {},
   "source": [
    "## Sara Abukhalaf (undergrad)"
   ]
  },
  {
   "cell_type": "markdown",
   "id": "02f9615a-e660-4ec1-a90a-d5a2ba9d25d0",
   "metadata": {},
   "source": [
    "## INTRODUCTION\n",
    "\n",
    "This report covers the individual work i did for Project Stage I which focuses on the analysis and understanding of the Presidential Election Dataset which is the data set i chose, related to covid 19 data for the state, New York. I divided this project part into three tasks:\n",
    "\n",
    "In Task 1, I loaded and filtered the Presidential Election Dataset to include only New York counties. then inspected the dataset to understand its structure and key variables, like the number of votes tallied, total expected votes, and the percentage of votes counted in each county so i can get familiar with the dataset for upcoming tasks and project stages.\n",
    "\n",
    "In Task 2, I made a list of the important columns in the election dataset (the data dictionary) and came up with a hypothesis. My hypothesis was that counties with different political preferences, shown by voter turnout or the candidate they supported, might have different trends in covid 19 cases. I also figured out how this election data could be combined with the covid 19 data for future analysis.\n",
    "\n",
    "\n",
    "In Task 3, I analyzed covid 19 case trends for New York counties over the last week of available data. I then merged the Presidential Election Dataset with the covid 19 dataset overcoming challenges and explaining them and giving summary etc"
   ]
  },
  {
   "cell_type": "markdown",
   "id": "891dc6e8-9749-463a-978b-a7ef11107742",
   "metadata": {},
   "source": [
    "## TASK ONE"
   ]
  },
  {
   "cell_type": "code",
   "execution_count": 24,
   "id": "1daa9646-205f-46fe-b77a-1fa8baf749e9",
   "metadata": {},
   "outputs": [
    {
     "name": "stdout",
     "output_type": "stream",
     "text": [
      "state            object\n",
      "county           object\n",
      "current_votes     int64\n",
      "total_votes       int64\n",
      "percent           int64\n",
      "dtype: object\n",
      "         state              county  current_votes  total_votes  percent\n",
      "2565  New York       Albany County         153586       154101      100\n",
      "2566  New York     Allegany County          20716        20782      100\n",
      "2567  New York        Bronx County         425883       425715      100\n",
      "2568  New York       Broome County          92794        92794      100\n",
      "2569  New York  Cattaraugus County          34760        34845      100\n"
     ]
    }
   ],
   "source": [
    "import pandas as pd\n",
    "import os\n",
    "\n",
    "# getting the path to my pres folder\n",
    "desktop_path = os.path.join(os.path.expanduser(\"~\"), \"Desktop\")\n",
    "elections_folder = os.path.join(desktop_path, \"project stage 1\", \"presidential elections\")\n",
    "\n",
    "# loading my president_county.csv file\n",
    "president_county_path = os.path.join(elections_folder, 'president_county.csv')\n",
    "president_county_data = pd.read_csv(president_county_path)\n",
    "\n",
    "# filtering the data for the column state that = new york \n",
    "ny_election_data = president_county_data[president_county_data['state'] == 'New York']\n",
    "\n",
    "# printing to inspect the data structure and data types\n",
    "print(ny_election_data.dtypes)\n",
    "print(ny_election_data.head())\n"
   ]
  },
  {
   "cell_type": "markdown",
   "id": "9ee83075-c33e-4d37-9af8-9a9924e8f7c5",
   "metadata": {},
   "source": [
    "## TASK TWO"
   ]
  },
  {
   "cell_type": "code",
   "execution_count": 27,
   "id": "074cf49c-1adc-4c89-bc9d-4365e56c2e94",
   "metadata": {},
   "outputs": [
    {
     "name": "stdout",
     "output_type": "stream",
     "text": [
      "Variable: state\n",
      "  Data Type: object (string)\n",
      "  Description: The U.S. state (New York in this dataset).\n",
      "\n",
      "Variable: county\n",
      "  Data Type: object (string)\n",
      "  Description: The county within the state of New York.\n",
      "\n",
      "Variable: current_votes\n",
      "  Data Type: int64\n",
      "  Description: The number of votes tallied in the county so far.\n",
      "\n",
      "Variable: total_votes\n",
      "  Data Type: int64\n",
      "  Description: The total number of votes expected in the county.\n",
      "\n",
      "Variable: percent\n",
      "  Data Type: int64\n",
      "  Description: The percentage of votes counted for the county.\n",
      "\n"
     ]
    }
   ],
   "source": [
    "# making the data dictionary\n",
    "data_dictionary = {\n",
    "    \"state\": {\n",
    "        \"Data Type\": \"object (string)\",\n",
    "        \"Description\": \"The U.S. state (New York in this dataset).\"\n",
    "    },\n",
    "    \"county\": {\n",
    "        \"Data Type\": \"object (string)\",\n",
    "        \"Description\": \"The county within the state of New York.\"\n",
    "    },\n",
    "    \"current_votes\": {\n",
    "        \"Data Type\": \"int64\",\n",
    "        \"Description\": \"The number of votes tallied in the county so far.\"\n",
    "    },\n",
    "    \"total_votes\": {\n",
    "        \"Data Type\": \"int64\",\n",
    "        \"Description\": \"The total number of votes expected in the county.\"\n",
    "    },\n",
    "    \"percent\": {\n",
    "        \"Data Type\": \"int64\",\n",
    "        \"Description\": \"The percentage of votes counted for the county.\"\n",
    "    }\n",
    "}\n",
    "\n",
    "# display the data dictionary \n",
    "for key, value in data_dictionary.items():\n",
    "    print(f\"Variable: {key}\")\n",
    "    print(f\"  Data Type: {value['Data Type']}\")\n",
    "    print(f\"  Description: {value['Description']}\\n\")\n"
   ]
  },
  {
   "cell_type": "markdown",
   "id": "9c91f04e-18d3-4f3c-b56a-1a24fe57765b",
   "metadata": {},
   "source": [
    "## INITIAL HYPOTHESIS\n",
    "\n",
    "My initial Hypothesis: A county's political leaning, reflected by the presidential candidate or voter turnout, may influence covid 19 trends. Counties with higher voter turnout or specific political preferences can show different case patterns. In other words, counties that supported different political candidates or had different levels of voter turnout could show patterns in how covid 19 cases developed over time, like higher/lower infection rates or the differences in how cases increased/decreased.\n",
    "\n",
    "\n",
    "\n",
    "Merging: I identified that the datasets can be merged on county (from the election data) and County Name (from the covid 19 data), which would let upcoming analysis of how election results cconect with the spread of covid 19."
   ]
  },
  {
   "cell_type": "markdown",
   "id": "ee2a1f47-510d-4454-998a-59b2160a371b",
   "metadata": {},
   "source": [
    "## TASK THREE "
   ]
  },
  {
   "cell_type": "code",
   "execution_count": 31,
   "id": "bdecd9f2-793b-4f75-aed8-c41a72a54419",
   "metadata": {},
   "outputs": [
    {
     "name": "stdout",
     "output_type": "stream",
     "text": [
      "      countyFIPS            County Name State  StateFIPS  2020-01-22  \\\n",
      "1860           0  Statewide Unallocated    NY         36           0   \n",
      "1861       36001         Albany County     NY         36           0   \n",
      "1862       36003       Allegany County     NY         36           0   \n",
      "1863       36005          Bronx County     NY         36           0   \n",
      "1864       36007         Broome County     NY         36           0   \n",
      "\n",
      "      2020-01-23  2020-01-24  2020-01-25  2020-01-26  2020-01-27  ...  \\\n",
      "1860           0           0           0           0           0  ...   \n",
      "1861           0           0           0           0           0  ...   \n",
      "1862           0           0           0           0           0  ...   \n",
      "1863           0           0           0           0           0  ...   \n",
      "1864           0           0           0           0           0  ...   \n",
      "\n",
      "      2023-07-14  2023-07-15  2023-07-16  2023-07-17  2023-07-18  2023-07-19  \\\n",
      "1860           0           0           0           0           0           0   \n",
      "1861       80317       80317       80317       80317       80317       80346   \n",
      "1862       11019       11019       11019       11019       11019       11023   \n",
      "1863      516506      516506      516506      516506      516506      516827   \n",
      "1864       60127       60127       60127       60127       60127       60149   \n",
      "\n",
      "      2023-07-20  2023-07-21  2023-07-22  2023-07-23  \n",
      "1860           0           0           0           0  \n",
      "1861       80346       80346       80346       80346  \n",
      "1862       11023       11023       11023       11023  \n",
      "1863      516827      516827      516827      516827  \n",
      "1864       60149       60149       60149       60149  \n",
      "\n",
      "[5 rows x 1269 columns]\n",
      "      countyFIPS            County Name State  StateFIPS  2020-01-22  \\\n",
      "1860           0  Statewide Unallocated    NY         36           0   \n",
      "1861       36001         Albany County     NY         36           0   \n",
      "1862       36003       Allegany County     NY         36           0   \n",
      "1863       36005          Bronx County     NY         36           0   \n",
      "1864       36007         Broome County     NY         36           0   \n",
      "\n",
      "      2020-01-23  2020-01-24  2020-01-25  2020-01-26  2020-01-27  ...  \\\n",
      "1860           0           0           0           0           0  ...   \n",
      "1861           0           0           0           0           0  ...   \n",
      "1862           0           0           0           0           0  ...   \n",
      "1863           0           0           0           0           0  ...   \n",
      "1864           0           0           0           0           0  ...   \n",
      "\n",
      "      2023-07-14  2023-07-15  2023-07-16  2023-07-17  2023-07-18  2023-07-19  \\\n",
      "1860         578         578         578         578         578         578   \n",
      "1861         638         638         638         638         638         638   \n",
      "1862         166         166         166         166         166         166   \n",
      "1863        8526        8526        8526        8526        8526        8526   \n",
      "1864         617         617         617         617         617         617   \n",
      "\n",
      "      2023-07-20  2023-07-21  2023-07-22  2023-07-23  \n",
      "1860         579         579         579         579  \n",
      "1861         638         638         638         638  \n",
      "1862         166         166         166         166  \n",
      "1863        8526        8526        8526        8526  \n",
      "1864         617         617         617         617  \n",
      "\n",
      "[5 rows x 1269 columns]\n"
     ]
    }
   ],
   "source": [
    "import pandas as pd\n",
    "import os\n",
    "import matplotlib.pyplot as plt\n",
    "\n",
    "# my path to the covid 19 data folder\n",
    "desktop_path = os.path.join(os.path.expanduser(\"~\"), \"Desktop\")\n",
    "covid_data_folder = os.path.join(desktop_path, \"project stage 1\", \"covid 19 data\")\n",
    "\n",
    "# loading confirmed cases, deaths, and population data\n",
    "confirmed_cases_path = os.path.join(covid_data_folder, 'covid_confirmed_usafacts.csv')\n",
    "deaths_data_path = os.path.join(covid_data_folder, 'covid_deaths_usafacts.csv')\n",
    "population_data_path = os.path.join(covid_data_folder, 'covid_county_population_usafacts.csv')\n",
    "\n",
    "confirmed_data = pd.read_csv(confirmed_cases_path)\n",
    "deaths_data = pd.read_csv(deaths_data_path)\n",
    "population_data = pd.read_csv(population_data_path)\n",
    "\n",
    "# filtering the data for the column state that = new york \n",
    "ny_confirmed_data = confirmed_data[confirmed_data['State'] == 'NY']\n",
    "ny_deaths_data = deaths_data[deaths_data['State'] == 'NY']\n",
    "\n",
    "# inspecting the filtered data for New York\n",
    "print(ny_confirmed_data.head())\n",
    "print(ny_deaths_data.head())\n"
   ]
  },
  {
   "cell_type": "code",
   "execution_count": 32,
   "id": "1eef9bca-fafb-43ac-bf5f-6223ff829c83",
   "metadata": {},
   "outputs": [
    {
     "name": "stdout",
     "output_type": "stream",
     "text": [
      "    countyFIPS            County Name State       date  cases\n",
      "63           0  Statewide Unallocated    NY 2020-01-22      0\n",
      "64       36001         Albany County     NY 2020-01-22      0\n",
      "65       36003       Allegany County     NY 2020-01-22      0\n",
      "66       36005          Bronx County     NY 2020-01-22      0\n",
      "67       36007         Broome County     NY 2020-01-22      0\n"
     ]
    }
   ],
   "source": [
    "# reshaping the confirmed cases data (melting the date columns)\n",
    "ny_confirmed_data_melted = ny_confirmed_data.melt(\n",
    "    id_vars=['countyFIPS', 'County Name', 'State'], \n",
    "    var_name='date', \n",
    "    value_name='cases'\n",
    ")\n",
    "\n",
    "# reshape the deaths data too\n",
    "ny_deaths_data_melted = ny_deaths_data.melt(\n",
    "    id_vars=['countyFIPS', 'County Name', 'State'], \n",
    "    var_name='date', \n",
    "    value_name='deaths'\n",
    ")\n",
    "\n",
    "# removing any non date columns (also ensuring that the date column is valid and there)\n",
    "valid_dates = ny_confirmed_data_melted['date'].str.contains(r'\\d{4}-\\d{2}-\\d{2}')\n",
    "ny_confirmed_data_melted = ny_confirmed_data_melted[valid_dates]\n",
    "\n",
    "valid_dates_deaths = ny_deaths_data_melted['date'].str.contains(r'\\d{4}-\\d{2}-\\d{2}')\n",
    "ny_deaths_data_melted = ny_deaths_data_melted[valid_dates_deaths]\n",
    "\n",
    "# converting the date column to datetime format\n",
    "ny_confirmed_data_melted['date'] = pd.to_datetime(ny_confirmed_data_melted['date'])\n",
    "ny_deaths_data_melted['date'] = pd.to_datetime(ny_deaths_data_melted['date'])\n",
    "\n",
    "# inspecting the reshaped data\n",
    "print(ny_confirmed_data_melted.head())\n"
   ]
  },
  {
   "cell_type": "code",
   "execution_count": 41,
   "id": "19e092c5-070b-414b-b67c-186be633ca61",
   "metadata": {},
   "outputs": [
    {
     "name": "stdout",
     "output_type": "stream",
     "text": [
      "date\n",
      "2023-07-16    6703386\n",
      "2023-07-17    6703386\n",
      "2023-07-18    6703386\n",
      "2023-07-19    6706390\n",
      "2023-07-20    6706390\n",
      "2023-07-21    6706390\n",
      "2023-07-22    6706390\n",
      "2023-07-23    6706390\n",
      "Name: cases, dtype: int64\n"
     ]
    },
    {
     "data": {
      "image/png": "[encoded data removed]",
      "text/plain": [
       "<Figure size 1000x600 with 1 Axes>"
      ]
     },
     "metadata": {},
     "output_type": "display_data"
    }
   ],
   "source": [
    "# filtering data for the last week \n",
    "last_week_data = ny_confirmed_data_melted[ny_confirmed_data_melted['date'] >= ny_confirmed_data_melted['date'].max() - pd.Timedelta(days=7)]\n",
    "\n",
    "# analyzing the trend of cases in the last week by date\n",
    "cases_trend = last_week_data.groupby('date')['cases'].sum()\n",
    "\n",
    "\n",
    "print(cases_trend)\n",
    "\n",
    "# plotting the trend of cases over the last week\n",
    "cases_trend.plot(title='covid 19 cases for the last week in New York', figsize=(10, 6))\n",
    "plt.ylabel('number of cases')\n",
    "plt.xlabel('date')\n",
    "plt.grid(True)\n",
    "plt.show()\n",
    "\n"
   ]
  },
  {
   "cell_type": "code",
   "execution_count": 61,
   "id": "ec6b731e-5ad6-495f-ac06-26728f743709",
   "metadata": {},
   "outputs": [
    {
     "name": "stdout",
     "output_type": "stream",
     "text": [
      "   countyFIPS         County Name State       date  cases     state  \\\n",
      "0       36001       albany county    NY 2020-01-22      0  New York   \n",
      "1       36003     allegany county    NY 2020-01-22      0  New York   \n",
      "2       36005        bronx county    NY 2020-01-22      0  New York   \n",
      "3       36007       broome county    NY 2020-01-22      0  New York   \n",
      "4       36009  cattaraugus county    NY 2020-01-22      0  New York   \n",
      "\n",
      "   current_votes  total_votes  percent  \n",
      "0         153586       154101      100  \n",
      "1          20716        20782      100  \n",
      "2         425883       425715      100  \n",
      "3          92794        92794      100  \n",
      "4          34760        34845      100  \n"
     ]
    }
   ],
   "source": [
    "# renameing county to County Name in ny_election_data\n",
    "ny_election_data = ny_election_data.rename(columns={'county': 'County Name'})\n",
    "\n",
    "# spaces and making lowercase for consistency  and using .loc to avoid warnings\n",
    "ny_confirmed_data_melted['County Name'] = ny_confirmed_data_melted['County Name'].str.strip().str.lower()\n",
    "\n",
    "# using .loc to avoid the warning\n",
    "ny_election_data.loc[:, 'County Name'] = ny_election_data['County Name'].str.strip().str.lower()\n",
    "\n",
    "# merging datasets\n",
    "merged_data = pd.merge(ny_confirmed_data_melted, ny_election_data, on='County Name', how='inner')\n",
    "\n",
    "# printing\n",
    "print(merged_data.head())\n"
   ]
  },
  {
   "cell_type": "code",
   "execution_count": 63,
   "id": "f64c2939-530e-4ef0-9815-8e80f36a6ffc",
   "metadata": {},
   "outputs": [
    {
     "name": "stdout",
     "output_type": "stream",
     "text": [
      "                            OLS Regression Results                            \n",
      "==============================================================================\n",
      "Dep. Variable:                  cases   R-squared:                       0.000\n",
      "Model:                            OLS   Adj. R-squared:                  0.000\n",
      "Method:                 Least Squares   F-statistic:                       nan\n",
      "Date:                Tue, 10 Sep 2024   Prob (F-statistic):                nan\n",
      "Time:                        22:04:52   Log-Likelihood:            -1.0347e+06\n",
      "No. Observations:               78430   AIC:                         2.069e+06\n",
      "Df Residuals:                   78429   BIC:                         2.069e+06\n",
      "Df Model:                           0                                         \n",
      "Covariance Type:            nonrobust                                         \n",
      "==============================================================================\n",
      "                 coef    std err          t      P>|t|      [0.025      0.975]\n",
      "------------------------------------------------------------------------------\n",
      "percent      531.5922      4.633    114.728      0.000     522.511     540.674\n",
      "==============================================================================\n",
      "Omnibus:                    64104.098   Durbin-Watson:                   1.866\n",
      "Prob(Omnibus):                  0.000   Jarque-Bera (JB):          1235770.714\n",
      "Skew:                           4.021   Prob(JB):                         0.00\n",
      "Kurtosis:                      20.705   Cond. No.                         1.00\n",
      "==============================================================================\n",
      "\n",
      "Notes:\n",
      "[1] Standard Errors assume that the covariance matrix of the errors is correctly specified.\n"
     ]
    }
   ],
   "source": [
    "import statsmodels.api as sm\n",
    "\n",
    "# the dependent and independent variables\n",
    "X = merged_data['percent']  # Voter turnout\n",
    "y = merged_data['cases']  # COVID-19 cases\n",
    "\n",
    "# adding a constant to the independent variable\n",
    "X = sm.add_constant(X)\n",
    "\n",
    "# regression\n",
    "model = sm.OLS(y, X).fit()\n",
    "\n",
    "# summary of the regression\n",
    "print(model.summary())\n"
   ]
  },
  {
   "cell_type": "markdown",
   "id": "263756f9-9ef2-42b7-ae5e-6044b5c4e229",
   "metadata": {},
   "source": [
    "# summary \n",
    "\n",
    "I loaded the covid 19 confirmed cases, deaths, and population data from multiple CSV files.\n",
    "The data was filtered to include only New York state using the State column.\n",
    "\n",
    "I reshaped both the covid 19 confirmed cases and deaths datasets using the melt() function to convert the data from wide format (with date columns) to long format. it was easier analysis of trends by date so we dont have any future problems.\n",
    "After reshaping I cleaned the data to make sure only valid date columns were kept and converted the date columns to a datetime format. so its nice and clean and neat\n",
    "\n",
    "visualizing the trend of covid 19 cases in New York for the last week of available data, I created a line plot. This plot displayed the number of confirmed cases on the y axis and the corresponding dates on the x axis. It showed a steady trend with a increase around July 19, 2023. This plot is titled covid 19 Cases trend for the last Week in New York, provided a visual of the trend that was observed in the data.\n",
    "\n",
    "merged the covid 19 data with the Presidential Election Dataset on County Name.\n",
    "The merged dataset included information on covid 19 cases, deaths, and election results ( current votes, total votes, and voter turnout).\n",
    "\n",
    "regression analysis shows a statistically significant relationship between voter turnout and covid 19 cases with higher turnout associated with more cases because (coefficient = 531.59, p < 0.05). but the R-squared value is 0.000 which means voter turnout explains almost nonthing in covid 19 cases. :/\n",
    "\n",
    "\n",
    "going back to my hypothesis even though voter turnout is statistically related to covid 19 cases it does not explain the differences in case trends between counties. that means that other factors like population characteristics or health may be more influential in covid 19 case trends. so theres a link but voter turn out by itself is not really a strong factor for why different counties have more/fewer covid 19 cases.\n",
    "\n",
    "\n",
    "Challenges, debugging, errors, fixes etc:\n",
    "\n",
    "When merging the election data with the covid 19 data, I encountered an issue where the County Name values didn’t match due to formatting like extra spaces and lower and uppercase inconsistencies \n",
    "and to fix this I took out spaces and standardized the case (lowercase) in the County Name columns in both datasets. This made sure that the merging would succeed without errors. also i encountered a SettingWithCopyWarning  which happens when pandas isn't sure if you're making changes to the actual data or just a copy of it i had to look up what this means because ive never seen it before. After looking it up, I found that this can cause issues so to fix this I used the .loc like in class which made sure the changes were applied safely avoiding any more warnings or errors.\n",
    "\n"
   ]
  }
 ],
 "metadata": {
  "kernelspec": {
   "display_name": "Python 3 (ipykernel)",
   "language": "python",
   "name": "python3"
  },
  "language_info": {
   "codemirror_mode": {
    "name": "ipython",
    "version": 3
   },
   "file_extension": ".py",
   "mimetype": "text/x-python",
   "name": "python",
   "nbconvert_exporter": "python",
   "pygments_lexer": "ipython3",
   "version": "3.11.5"
  }
 },
 "nbformat": 4,
 "nbformat_minor": 5
}
