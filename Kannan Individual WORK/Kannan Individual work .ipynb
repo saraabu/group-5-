{
 "cells": [
  {
   "cell_type": "markdown",
   "id": "d45e8b86",
   "metadata": {},
   "source": [
    "# Individual Work - Stage I - Task 3 By Kannan Thilak\n",
    "\n"
   ]
  },
  {
   "cell_type": "markdown",
   "id": "19814abb",
   "metadata": {},
   "source": [
    "#### As directed, I am working on the 2020 COVID-19 Employment dataset so that we can assess it. The following variables are included in the data made available by the Employment excel spreadsheets: The following variables are related to the U.S.: year, Qtr, area type, state name, area ownership, industry, annual average status code, annual average establishment count, annual average employment, annual total wages, annual average weekly wage, annual average pay, employment location quotient, and total wage location quotient. Considering the multitude of factors, I have chosen to concentrate on Annual Average Employment in order to assess the most pertinent patterns. Compute the COVID-19 data trends for the final week of the available data as the first step in job 3. I've decided to analyze the state of North Carolina."
   ]
  },
  {
   "cell_type": "code",
   "execution_count": null,
   "id": "0efee097",
   "metadata": {},
   "outputs": [],
   "source": [
    "import pandas as pd\n",
    "import matplotlib.pyplot as plt\n",
    "\n",
    "# Load COVID-19 Super DataFrame\n",
    "covid_dataframe = pd.read_csv('final_merged_data.csv')\n",
    "\n",
    "# Filter data from NC\n",
    "nc_data = covid_dataframe[covid_dataframe['State'] == 'NC']\n",
    "\n",
    "case_columns = [col for col in nc_data.columns if col.endswith('_cases')]\n",
    "deaths_columns = [col for col in nc_data.columns if col.endswith('_deaths')]\n",
    "population_columns = [col for col in nc_data.columns if col.endswith('population')]\n",
    "\n",
    "# Using the last 7 days of data for cases, deaths, and population\n",
    "last_week_cases = case_columns[-7:]\n",
    "last_week_deaths = deaths_columns[-7:]\n",
    "last_week_population = population_columns[-7:]\n",
    "\n",
    "# Creating a DataFrame with only the last 7 days worth of data\n",
    "nc_last_week = nc_data[['countyFIPS', 'County Name', 'State'] + last_week_cases + last_week_deaths + last_week_population].copy()\n",
    "\n",
    "# Calculating total cases, deaths, and population\n",
    "nc_last_week.loc['total_cases_last_week'] = nc_last_week[last_week_cases].sum(axis=1)\n",
    "nc_last_week.loc['total_deaths_last_week'] = nc_last_week[last_week_deaths].sum(axis=1)\n",
    "nc_last_week.loc['total_population_last_week'] = nc_last_week[last_week_population].sum(axis=1)\n",
    "\n",
    "daily_cases = nc_last_week[last_week_cases].sum(axis=0)\n",
    "daily_deaths = nc_last_week[last_week_deaths].sum(axis=0)\n",
    "\n",
    "# display the result\n",
    "print(nc_last_week.head())\n"
   ]
  },
  {
   "cell_type": "markdown",
   "id": "98e7154d",
   "metadata": {},
   "source": [
    "#### The resulting data frame gives us a snapshot of the total cases, deaths, and population in North Carolina counties during the last week of available COVID-19 data."
   ]
  },
  {
   "cell_type": "markdown",
   "id": "885cf4b3",
   "metadata": {},
   "source": [
    "#### I will now observe the data by plotting the cases, deaths, and population on a chart to determine the trends.\n",
    "\n",
    "\n",
    "\n",
    "Interpretation of Trends:\n",
    "As shown in the graph above, the trend in daily cases and deaths in the last week of COVID-19 data for North Carolina highlights the consistency in the number of cases and deaths reported across the state.\n",
    "\n",
    "Now, I will compare this data with the employment trends for North Carolina. My hypothesis is that the employment data will correlate with the COVID-19 trends, as employment may have been impacted by the severity of the pandemic in different counties.\n"
   ]
  },
  {
   "cell_type": "markdown",
   "id": "39f00259",
   "metadata": {},
   "source": [
    "# Hypothesis:\n",
    "\n",
    "\n",
    "The COVID-19 data trends of cases and deaths will show a consistent pattern with the employment trends from the last half of 2023. This would suggest that the economic impact of COVID-19 has also mirrored the pandemic's severity in the state.\n",
    "\n"
   ]
  }
 ],
 "metadata": {
  "kernelspec": {
   "display_name": "Python 3 (ipykernel)",
   "language": "python",
   "name": "python3"
  },
  "language_info": {
   "codemirror_mode": {
    "name": "ipython",
    "version": 3
   },
   "file_extension": ".py",
   "mimetype": "text/x-python",
   "name": "python",
   "nbconvert_exporter": "python",
   "pygments_lexer": "ipython3",
   "version": "3.11.4"
  }
 },
 "nbformat": 4,
 "nbformat_minor": 5
}
