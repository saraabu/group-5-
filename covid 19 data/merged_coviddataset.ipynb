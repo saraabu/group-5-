{
 "cells": [
  {
   "cell_type": "code",
   "execution_count": 34,
   "id": "90c0efdf-1386-4882-9aed-9878eb2d9b6a",
   "metadata": {},
   "outputs": [
    {
     "name": "stdout",
     "output_type": "stream",
     "text": [
      "   countyFIPS                 County Name State  StateFIPS_x  \\\n",
      "0           0       Statewide Unallocated    AL            1   \n",
      "1           0       Statewide Unallocated    AK            2   \n",
      "2        2020   Municipality of Anchorage    AK            2   \n",
      "3        2110  City and Borough of Juneau    AK            2   \n",
      "4           0       Statewide Unallocated    AZ            4   \n",
      "\n",
      "   2020-01-22_cases  2020-01-23_cases  2020-01-24_cases  2020-01-25_cases  \\\n",
      "0                 0                 0                 0                 0   \n",
      "1                 0                 0                 0                 0   \n",
      "2                 0                 0                 0                 0   \n",
      "3                 0                 0                 0                 0   \n",
      "4                 0                 0                 0                 0   \n",
      "\n",
      "   2020-01-26_cases  2020-01-27_cases  ...  2023-07-14_y  2023-07-15_y  \\\n",
      "0                 0                 0  ...             0             0   \n",
      "1                 0                 0  ...             0             0   \n",
      "2                 0                 0  ...           619           619   \n",
      "3                 0                 0  ...            28            28   \n",
      "4                 0                 0  ...             0             0   \n",
      "\n",
      "   2023-07-16_y  2023-07-17_y  2023-07-18_y  2023-07-19_y  2023-07-20_y  \\\n",
      "0             0             0             0             0             0   \n",
      "1             0             0             0             0             0   \n",
      "2           619           619           619           619           619   \n",
      "3            28            28            28            28            28   \n",
      "4             0             0             0             0             0   \n",
      "\n",
      "   2023-07-21_y  2023-07-22_y  2023-07-23_y  \n",
      "0             0             0             0  \n",
      "1             0             0             0  \n",
      "2           619           619           619  \n",
      "3            28            28            28  \n",
      "4             0             0             0  \n",
      "\n",
      "[5 rows x 2536 columns]\n"
     ]
    }
   ],
   "source": [
    "import pandas as pd\n",
    "\n",
    "# Loading the Datasets: cases, population, and deaths\n",
    "covid_cases = pd.read_csv('covid-19 data/covid_confirmed_usafacts.csv')\n",
    "covid_population = pd.read_csv('covid-19 data/covid_county_population_usafacts.csv')\n",
    "covid_deaths = pd.read_csv('covid-19 data/covid_deaths_usafacts.csv')\n",
    "\n",
    "def rename_columns(df, suffix):\n",
    "    df.columns = [col + suffix if '2020' in col else col for col in df.columns]\n",
    "    return df\n",
    "\n",
    "#renaming columns to avoid confusion on merged columns\n",
    "covid_cases = rename_columns(covid_cases,'_cases')\n",
    "covid_population = rename_columns(covid_population,'_population')\n",
    "covid_deaths = rename_columns(covid_deaths,'_deaths')\n",
    "\n",
    "# Merging cases and deaths into one dataset\n",
    "covid_cases_and_population = pd.merge(covid_cases, covid_population, on=['countyFIPS','County Name','State'])\n",
    "\n",
    "# Merge the resulting dataset with the third deaths dataset into one super dataframe\n",
    "covid_super_dataframe = pd.merge(covid_cases_and_population, covid_deaths, on=['countyFIPS','County Name','State'])\n",
    "\n",
    "# Display the first few rows on the final super DataFrame\n",
    "print(covid_super_dataframe.head())\n",
    "\n",
    "# Save the final merged DataFrame to a csv file\n",
    "covid_super_dataframe.to_csv('covid_super_dataframe.csv',index=False)"
   ]
  },
  {
   "cell_type": "code",
   "execution_count": null,
   "id": "90c72c82-b03a-4ef9-adde-a72fdcdb9f44",
   "metadata": {},
   "outputs": [],
   "source": []
  }
 ],
 "metadata": {
  "kernelspec": {
   "display_name": "Python 3 (ipykernel)",
   "language": "python",
   "name": "python3"
  },
  "language_info": {
   "codemirror_mode": {
    "name": "ipython",
    "version": 3
   },
   "file_extension": ".py",
   "mimetype": "text/x-python",
   "name": "python",
   "nbconvert_exporter": "python",
   "pygments_lexer": "ipython3",
   "version": "3.12.4"
  }
 },
 "nbformat": 4,
 "nbformat_minor": 5
}
